{
 "cells": [
  {
   "cell_type": "code",
   "execution_count": 3,
   "metadata": {},
   "outputs": [],
   "source": [
    "import numpy as np\n",
    "import pandas as pd\n",
    "import seaborn as sns\n",
    "import scipy as stats"
   ]
  },
  {
   "cell_type": "code",
   "execution_count": 10,
   "metadata": {},
   "outputs": [
    {
     "name": "stdout",
     "output_type": "stream",
     "text": [
      "          id_1   id_2       cmp_fname_c1 cmp_fname_c2  cmp_lname_c1  \\\n",
      "0        53719  60579                  1            ?      1.000000   \n",
      "1        58967  58973                  1            ?      1.000000   \n",
      "2         1499  23331                  1            ?      1.000000   \n",
      "3        18441  36183                  1            1      1.000000   \n",
      "4         8902  11508                  1            ?      1.000000   \n",
      "...        ...    ...                ...          ...           ...   \n",
      "5749127  19653  54660                  1            ?      0.200000   \n",
      "5749128  79562  81477  0.142857142857143            ?      1.000000   \n",
      "5749129  51364  94318                  1            ?      0.214286   \n",
      "5749130   6724  60588                  1            ?      0.166667   \n",
      "5749131  32344  49666                  1            ?      0.285714   \n",
      "\n",
      "        cmp_lname_c2  cmp_sex cmp_bd cmp_bm cmp_by cmp_plz  is_match  \n",
      "0                  ?        1      1      1      1       1      True  \n",
      "1                  ?        1      1      1      1       1      True  \n",
      "2                  ?        1      1      1      1       1      True  \n",
      "3                  ?        1      1      1      1       1      True  \n",
      "4                  ?        1      1      1      1       1      True  \n",
      "...              ...      ...    ...    ...    ...     ...       ...  \n",
      "5749127            ?        1      0      1      0       0     False  \n",
      "5749128            ?        1      0      1      0       0     False  \n",
      "5749129            ?        1      0      1      0       0     False  \n",
      "5749130            ?        1      0      1      0       0     False  \n",
      "5749131            ?        1      0      0      1       0     False  \n",
      "\n",
      "[5749132 rows x 12 columns]\n"
     ]
    }
   ],
   "source": [
    "import glob\n",
    "path='/home/manikanta/Documents/dataset/block'\n",
    "all_files=glob.glob(path+\"/*.csv\")\n",
    "li=[]\n",
    "for filename in all_files:\n",
    "    df=pd.read_csv(filename,index_col=None,header=0)\n",
    "    li.append(df)\n",
    "    \n",
    "frame=pd.concat(li,axis=0,ignore_index=True)\n",
    "print(frame)"
   ]
  },
  {
   "cell_type": "code",
   "execution_count": 11,
   "metadata": {},
   "outputs": [],
   "source": [
    "frame.to_csv('manikanta.csv')"
   ]
  },
  {
   "cell_type": "code",
   "execution_count": null,
   "metadata": {},
   "outputs": [],
   "source": []
  },
  {
   "cell_type": "code",
   "execution_count": null,
   "metadata": {},
   "outputs": [],
   "source": []
  },
  {
   "cell_type": "code",
   "execution_count": null,
   "metadata": {},
   "outputs": [],
   "source": []
  },
  {
   "cell_type": "code",
   "execution_count": null,
   "metadata": {},
   "outputs": [],
   "source": []
  },
  {
   "cell_type": "code",
   "execution_count": null,
   "metadata": {},
   "outputs": [],
   "source": []
  },
  {
   "cell_type": "code",
   "execution_count": null,
   "metadata": {},
   "outputs": [],
   "source": []
  },
  {
   "cell_type": "code",
   "execution_count": null,
   "metadata": {},
   "outputs": [],
   "source": []
  }
 ],
 "metadata": {
  "kernelspec": {
   "display_name": "Python 3",
   "language": "python",
   "name": "python3"
  },
  "language_info": {
   "codemirror_mode": {
    "name": "ipython",
    "version": 3
   },
   "file_extension": ".py",
   "mimetype": "text/x-python",
   "name": "python",
   "nbconvert_exporter": "python",
   "pygments_lexer": "ipython3",
   "version": "3.6.8"
  }
 },
 "nbformat": 4,
 "nbformat_minor": 4
}
